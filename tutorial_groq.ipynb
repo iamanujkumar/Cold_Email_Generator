{
 "cells": [
  {
   "cell_type": "code",
   "execution_count": 3,
   "id": "631f9670-f82a-4d43-afdf-2c7edc291c64",
   "metadata": {},
   "outputs": [
    {
     "name": "stdout",
     "output_type": "stream",
     "text": [
      "The first person to walk on the moon was Neil Armstrong. He stepped out of the lunar module Eagle and onto the moon's surface on July 20, 1969, during the Apollo 11 mission. Armstrong famously declared, \"That's one small step for man, one giant leap for mankind,\" as he became the first human to set foot on the moon.\n",
      "\n",
      "Armstrong was followed by Edwin \"Buzz\" Aldrin, who also walked on the moon during the Apollo 11 mission. Michael Collins remained in orbit around the moon in the command module Columbia, waiting for the lunar module to return to Earth.\n",
      "\n",
      "Neil Armstrong's historic moonwalk lasted about two and a half hours, during which he and Aldrin collected samples and conducted experiments. Their mission marked a major achievement in space exploration and paved the way for future human spaceflight missions.\n"
     ]
    }
   ],
   "source": [
    "from langchain_groq import ChatGroq\n",
    "\n",
    "llm = ChatGroq(\n",
    "    groq_api_key=\"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\",\n",
    "    model=\"llama-3.1-8b-instant\",\n",
    "    temperature=0,\n",
    ")\n",
    "\n",
    "response = llm.invoke(\"The first person walk on the moon\")\n",
    "\n",
    "print(response.content)"
   ]
  },
  {
   "cell_type": "code",
   "execution_count": null,
   "id": "b04770d6-8ab3-48a3-a048-7939413fbd98",
   "metadata": {},
   "outputs": [],
   "source": []
  },
  {
   "cell_type": "code",
   "execution_count": null,
   "id": "bfd044c6-1a9a-408a-a225-ec3049e19d76",
   "metadata": {},
   "outputs": [],
   "source": []
  }
 ],
 "metadata": {
  "kernelspec": {
   "display_name": "Python 3 (ipykernel)",
   "language": "python",
   "name": "python3"
  },
  "language_info": {
   "codemirror_mode": {
    "name": "ipython",
    "version": 3
   },
   "file_extension": ".py",
   "mimetype": "text/x-python",
   "name": "python",
   "nbconvert_exporter": "python",
   "pygments_lexer": "ipython3",
   "version": "3.12.9"
  }
 },
 "nbformat": 4,
 "nbformat_minor": 5
}
